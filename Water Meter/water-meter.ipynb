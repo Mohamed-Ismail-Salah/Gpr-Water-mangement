{
  "cells": [
    {
      "cell_type": "code",
      "execution_count": 1,
      "metadata": {
        "colab": {
          "base_uri": "https://localhost:8080/",
          "height": 351
        },
        "id": "yyKrQ55g0TqR",
        "outputId": "e4c07fdb-89b0-4a02-f363-18a46617ede8"
      },
      "outputs": [
        {
          "output_type": "stream",
          "name": "stdout",
          "text": [
            "Looking in indexes: https://pypi.org/simple, https://us-python.pkg.dev/colab-wheels/public/simple/\n",
            "Requirement already satisfied: kaggle in /usr/local/lib/python3.8/dist-packages (1.5.12)\n",
            "Requirement already satisfied: python-slugify in /usr/local/lib/python3.8/dist-packages (from kaggle) (7.0.0)\n",
            "Requirement already satisfied: six>=1.10 in /usr/local/lib/python3.8/dist-packages (from kaggle) (1.15.0)\n",
            "Requirement already satisfied: certifi in /usr/local/lib/python3.8/dist-packages (from kaggle) (2022.9.24)\n",
            "Requirement already satisfied: python-dateutil in /usr/local/lib/python3.8/dist-packages (from kaggle) (2.8.2)\n",
            "Requirement already satisfied: tqdm in /usr/local/lib/python3.8/dist-packages (from kaggle) (4.64.1)\n",
            "Requirement already satisfied: requests in /usr/local/lib/python3.8/dist-packages (from kaggle) (2.23.0)\n",
            "Requirement already satisfied: urllib3 in /usr/local/lib/python3.8/dist-packages (from kaggle) (1.24.3)\n",
            "Requirement already satisfied: text-unidecode>=1.3 in /usr/local/lib/python3.8/dist-packages (from python-slugify->kaggle) (1.3)\n",
            "Requirement already satisfied: idna<3,>=2.5 in /usr/local/lib/python3.8/dist-packages (from requests->kaggle) (2.10)\n",
            "Requirement already satisfied: chardet<4,>=3.0.2 in /usr/local/lib/python3.8/dist-packages (from requests->kaggle) (3.0.4)\n"
          ]
        },
        {
          "output_type": "display_data",
          "data": {
            "text/plain": [
              "<IPython.core.display.HTML object>"
            ],
            "text/html": [
              "\n",
              "     <input type=\"file\" id=\"files-c8cdba12-4553-4a12-b734-0030b4a49bdf\" name=\"files[]\" multiple disabled\n",
              "        style=\"border:none\" />\n",
              "     <output id=\"result-c8cdba12-4553-4a12-b734-0030b4a49bdf\">\n",
              "      Upload widget is only available when the cell has been executed in the\n",
              "      current browser session. Please rerun this cell to enable.\n",
              "      </output>\n",
              "      <script>// Copyright 2017 Google LLC\n",
              "//\n",
              "// Licensed under the Apache License, Version 2.0 (the \"License\");\n",
              "// you may not use this file except in compliance with the License.\n",
              "// You may obtain a copy of the License at\n",
              "//\n",
              "//      http://www.apache.org/licenses/LICENSE-2.0\n",
              "//\n",
              "// Unless required by applicable law or agreed to in writing, software\n",
              "// distributed under the License is distributed on an \"AS IS\" BASIS,\n",
              "// WITHOUT WARRANTIES OR CONDITIONS OF ANY KIND, either express or implied.\n",
              "// See the License for the specific language governing permissions and\n",
              "// limitations under the License.\n",
              "\n",
              "/**\n",
              " * @fileoverview Helpers for google.colab Python module.\n",
              " */\n",
              "(function(scope) {\n",
              "function span(text, styleAttributes = {}) {\n",
              "  const element = document.createElement('span');\n",
              "  element.textContent = text;\n",
              "  for (const key of Object.keys(styleAttributes)) {\n",
              "    element.style[key] = styleAttributes[key];\n",
              "  }\n",
              "  return element;\n",
              "}\n",
              "\n",
              "// Max number of bytes which will be uploaded at a time.\n",
              "const MAX_PAYLOAD_SIZE = 100 * 1024;\n",
              "\n",
              "function _uploadFiles(inputId, outputId) {\n",
              "  const steps = uploadFilesStep(inputId, outputId);\n",
              "  const outputElement = document.getElementById(outputId);\n",
              "  // Cache steps on the outputElement to make it available for the next call\n",
              "  // to uploadFilesContinue from Python.\n",
              "  outputElement.steps = steps;\n",
              "\n",
              "  return _uploadFilesContinue(outputId);\n",
              "}\n",
              "\n",
              "// This is roughly an async generator (not supported in the browser yet),\n",
              "// where there are multiple asynchronous steps and the Python side is going\n",
              "// to poll for completion of each step.\n",
              "// This uses a Promise to block the python side on completion of each step,\n",
              "// then passes the result of the previous step as the input to the next step.\n",
              "function _uploadFilesContinue(outputId) {\n",
              "  const outputElement = document.getElementById(outputId);\n",
              "  const steps = outputElement.steps;\n",
              "\n",
              "  const next = steps.next(outputElement.lastPromiseValue);\n",
              "  return Promise.resolve(next.value.promise).then((value) => {\n",
              "    // Cache the last promise value to make it available to the next\n",
              "    // step of the generator.\n",
              "    outputElement.lastPromiseValue = value;\n",
              "    return next.value.response;\n",
              "  });\n",
              "}\n",
              "\n",
              "/**\n",
              " * Generator function which is called between each async step of the upload\n",
              " * process.\n",
              " * @param {string} inputId Element ID of the input file picker element.\n",
              " * @param {string} outputId Element ID of the output display.\n",
              " * @return {!Iterable<!Object>} Iterable of next steps.\n",
              " */\n",
              "function* uploadFilesStep(inputId, outputId) {\n",
              "  const inputElement = document.getElementById(inputId);\n",
              "  inputElement.disabled = false;\n",
              "\n",
              "  const outputElement = document.getElementById(outputId);\n",
              "  outputElement.innerHTML = '';\n",
              "\n",
              "  const pickedPromise = new Promise((resolve) => {\n",
              "    inputElement.addEventListener('change', (e) => {\n",
              "      resolve(e.target.files);\n",
              "    });\n",
              "  });\n",
              "\n",
              "  const cancel = document.createElement('button');\n",
              "  inputElement.parentElement.appendChild(cancel);\n",
              "  cancel.textContent = 'Cancel upload';\n",
              "  const cancelPromise = new Promise((resolve) => {\n",
              "    cancel.onclick = () => {\n",
              "      resolve(null);\n",
              "    };\n",
              "  });\n",
              "\n",
              "  // Wait for the user to pick the files.\n",
              "  const files = yield {\n",
              "    promise: Promise.race([pickedPromise, cancelPromise]),\n",
              "    response: {\n",
              "      action: 'starting',\n",
              "    }\n",
              "  };\n",
              "\n",
              "  cancel.remove();\n",
              "\n",
              "  // Disable the input element since further picks are not allowed.\n",
              "  inputElement.disabled = true;\n",
              "\n",
              "  if (!files) {\n",
              "    return {\n",
              "      response: {\n",
              "        action: 'complete',\n",
              "      }\n",
              "    };\n",
              "  }\n",
              "\n",
              "  for (const file of files) {\n",
              "    const li = document.createElement('li');\n",
              "    li.append(span(file.name, {fontWeight: 'bold'}));\n",
              "    li.append(span(\n",
              "        `(${file.type || 'n/a'}) - ${file.size} bytes, ` +\n",
              "        `last modified: ${\n",
              "            file.lastModifiedDate ? file.lastModifiedDate.toLocaleDateString() :\n",
              "                                    'n/a'} - `));\n",
              "    const percent = span('0% done');\n",
              "    li.appendChild(percent);\n",
              "\n",
              "    outputElement.appendChild(li);\n",
              "\n",
              "    const fileDataPromise = new Promise((resolve) => {\n",
              "      const reader = new FileReader();\n",
              "      reader.onload = (e) => {\n",
              "        resolve(e.target.result);\n",
              "      };\n",
              "      reader.readAsArrayBuffer(file);\n",
              "    });\n",
              "    // Wait for the data to be ready.\n",
              "    let fileData = yield {\n",
              "      promise: fileDataPromise,\n",
              "      response: {\n",
              "        action: 'continue',\n",
              "      }\n",
              "    };\n",
              "\n",
              "    // Use a chunked sending to avoid message size limits. See b/62115660.\n",
              "    let position = 0;\n",
              "    do {\n",
              "      const length = Math.min(fileData.byteLength - position, MAX_PAYLOAD_SIZE);\n",
              "      const chunk = new Uint8Array(fileData, position, length);\n",
              "      position += length;\n",
              "\n",
              "      const base64 = btoa(String.fromCharCode.apply(null, chunk));\n",
              "      yield {\n",
              "        response: {\n",
              "          action: 'append',\n",
              "          file: file.name,\n",
              "          data: base64,\n",
              "        },\n",
              "      };\n",
              "\n",
              "      let percentDone = fileData.byteLength === 0 ?\n",
              "          100 :\n",
              "          Math.round((position / fileData.byteLength) * 100);\n",
              "      percent.textContent = `${percentDone}% done`;\n",
              "\n",
              "    } while (position < fileData.byteLength);\n",
              "  }\n",
              "\n",
              "  // All done.\n",
              "  yield {\n",
              "    response: {\n",
              "      action: 'complete',\n",
              "    }\n",
              "  };\n",
              "}\n",
              "\n",
              "scope.google = scope.google || {};\n",
              "scope.google.colab = scope.google.colab || {};\n",
              "scope.google.colab._files = {\n",
              "  _uploadFiles,\n",
              "  _uploadFilesContinue,\n",
              "};\n",
              "})(self);\n",
              "</script> "
            ]
          },
          "metadata": {}
        },
        {
          "output_type": "stream",
          "name": "stdout",
          "text": [
            "Saving kaggle.json to kaggle.json\n",
            "Downloading mramr-dataset.zip to /content\n",
            " 97% 140M/144M [00:01<00:00, 157MB/s]\n",
            "100% 144M/144M [00:01<00:00, 134MB/s]\n",
            "done\n"
          ]
        }
      ],
      "source": [
        "!pip install kaggle\n",
        "\n",
        "from google.colab import files\n",
        "files.upload()\n",
        "\n",
        "!mkdir ~/.kaggle\n",
        "!cp /content/kaggle.json ~/.kaggle/kaggle.json\n",
        "\n",
        "!chmod 600 /root/.kaggle/kaggle.json\n",
        "\n",
        "!kaggle datasets download -d saherhassan7/mramr-dataset\n",
        "\n",
        "from zipfile import ZipFile\n",
        "base_dir=\"/content/mramr-dataset.zip\"\n",
        "with ZipFile(base_dir , 'r')as zip:\n",
        "  zip.extractall()\n",
        "  print('done')"
      ]
    },
    {
      "cell_type": "code",
      "execution_count": 2,
      "metadata": {
        "id": "VTsijA6KYjGl"
      },
      "outputs": [],
      "source": [
        "import tensorflow as tf\n",
        "import numpy as np\n",
        "from tensorflow import keras\n",
        "from tensorflow.keras.layers import Dense, Flatten, BatchNormalization, Dropout,SimpleRNN, GRU, Activation\n",
        "from tensorflow.keras.models import Sequential\n",
        "import pandas as pd\n",
        "from tensorflow.keras.optimizers import Adam\n",
        "from tensorflow.keras.losses import CategoricalCrossentropy\n",
        "from cv2 import imread, resize\n",
        "import matplotlib.pyplot as plt\n",
        "import matplotlib.image as mpimg"
      ]
    },
    {
      "cell_type": "code",
      "execution_count": 3,
      "metadata": {
        "id": "Q_raWikYYjO8"
      },
      "outputs": [],
      "source": [
        "base_dir = '/content/MR-AMR Dataset'\n"
      ]
    },
    {
      "cell_type": "code",
      "execution_count": 4,
      "metadata": {
        "id": "MKOfnoIOYjUt"
      },
      "outputs": [],
      "source": [
        "IMAGE_SIZE=28\n",
        "BATCH_SIZE=32"
      ]
    },
    {
      "cell_type": "code",
      "execution_count": 5,
      "metadata": {
        "id": "tknogUEYYjgc"
      },
      "outputs": [],
      "source": [
        "train_datagen=tf.keras.preprocessing.image.ImageDataGenerator(\n",
        "     rescale=1./255,\n",
        "     rotation_range=40,\n",
        "     width_shift_range=0.2,\n",
        "     height_shift_range=0.2,\n",
        "     shear_range=0.2,\n",
        "     zoom_range=0.2,\n",
        "     horizontal_flip=True,\n",
        "     validation_split=0.2,\n",
        "     fill_mode='nearest'\n",
        "    )"
      ]
    },
    {
      "cell_type": "code",
      "execution_count": 6,
      "metadata": {
        "id": "3IYFMl22Yqy0"
      },
      "outputs": [],
      "source": [
        "test_datagen=tf.keras.preprocessing.image.ImageDataGenerator(\n",
        "     rescale=1./255,\n",
        "     rotation_range=40,\n",
        "     width_shift_range=0.2,\n",
        "     height_shift_range=0.2,\n",
        "     shear_range=0.2,\n",
        "     zoom_range=0.2,\n",
        "     horizontal_flip=True,\n",
        "     validation_split=0.2,\n",
        "     fill_mode='nearest'\n",
        ")"
      ]
    },
    {
      "cell_type": "code",
      "execution_count": 7,
      "metadata": {
        "colab": {
          "base_uri": "https://localhost:8080/"
        },
        "id": "lrCutqR6Yq7D",
        "outputId": "0ad16186-d41f-4bb1-eb41-bbb9222e437d"
      },
      "outputs": [
        {
          "output_type": "stream",
          "name": "stdout",
          "text": [
            "Found 112004 images belonging to 10 classes.\n"
          ]
        }
      ],
      "source": [
        "train_datagen=train_datagen.flow_from_directory(\n",
        "    base_dir,\n",
        "    target_size=(IMAGE_SIZE,IMAGE_SIZE),\n",
        "    batch_size=BATCH_SIZE,\n",
        "    subset='training',\n",
        "    shuffle=True,\n",
        "    class_mode='categorical',\n",
        "    seed=42\n",
        ")"
      ]
    },
    {
      "cell_type": "code",
      "execution_count": 8,
      "metadata": {
        "colab": {
          "base_uri": "https://localhost:8080/"
        },
        "id": "xabJOZHoY3i9",
        "outputId": "06b6c198-cac3-44df-c79c-1a19dfe865a5"
      },
      "outputs": [
        {
          "output_type": "stream",
          "name": "stdout",
          "text": [
            "Found 27996 images belonging to 10 classes.\n"
          ]
        }
      ],
      "source": [
        "test_datagen=test_datagen.flow_from_directory(\n",
        "    base_dir,\n",
        "    target_size=(IMAGE_SIZE,IMAGE_SIZE),\n",
        "    batch_size=BATCH_SIZE,\n",
        "    subset='validation',\n",
        "    class_mode='categorical',\n",
        "    shuffle=True,\n",
        "    seed=42\n",
        ")"
      ]
    },
    {
      "cell_type": "code",
      "execution_count": 9,
      "metadata": {
        "id": "zmIFSL1WY4kz"
      },
      "outputs": [],
      "source": [
        "model=tf.keras.Sequential()\n",
        "model.add(tf.keras.layers.Conv2D(32,(3,3),activation='relu',input_shape=(IMAGE_SIZE,IMAGE_SIZE,3)))\n",
        "# model.add(tf.keras.layers.MaxPool2D(2,2))\n",
        "# model.add(Dropout(0.1))\n",
        "# model.add(tf.keras.layers.BatchNormalization())\n",
        "# model.add(Dropout(0.1))\n",
        "model.add(tf.keras.layers.Conv2D(64,(3,3),activation='relu'))\n",
        "model.add(tf.keras.layers.MaxPool2D(2,2))\n",
        "model.add(Dropout(0.1))\n",
        "# model.add(tf.keras.layers.BatchNormalization())\n",
        "# model.add(Dropout(0.2))\n",
        "# model.add(tf.keras.layers.Conv2D(128,(3,3),activation='relu'))\n",
        "# model.add(tf.keras.layers.MaxPool2D(2,2))\n",
        "# model.add(Dropout(0.2))\n",
        "# model.add(tf.keras.layers.BatchNormalization())\n",
        "# model.add(Dropout(0.2))\n",
        "model.add(tf.keras.layers.Flatten())\n",
        "# model.add(tf.keras.layers.Dense(256, activation='relu'))\n",
        "# model.add(tf.keras.layers.BatchNormalization())\n",
        "# model.add(Dropout(0.2))\n",
        "model.add(tf.keras.layers.Dense(128, activation='relu'))\n",
        "# model.add(tf.keras.layers.BatchNormalization())\n",
        "model.add(Dropout(0.1))\n",
        "model.add(tf.keras.layers.Dense(10,activation='softmax'))"
      ]
    },
    {
      "cell_type": "code",
      "execution_count": 10,
      "metadata": {
        "id": "LRz7evelY8Ez"
      },
      "outputs": [],
      "source": [
        "from tensorflow.keras.callbacks import ReduceLROnPlateau, EarlyStopping\n",
        "reduce_lr = ReduceLROnPlateau(monitor='val_loss', factor=np.sqrt(0.1), patience=5,min_delta=0.001,restore_best_weights=True)"
      ]
    },
    {
      "cell_type": "code",
      "execution_count": 11,
      "metadata": {
        "id": "M6KvuKuPY9vj"
      },
      "outputs": [],
      "source": [
        "optimizer = Adam(learning_rate=0.001)"
      ]
    },
    {
      "cell_type": "code",
      "execution_count": 12,
      "metadata": {
        "id": "GuxZXLC-ZAZs"
      },
      "outputs": [],
      "source": [
        "model.compile(optimizer=optimizer, loss=CategoricalCrossentropy(), metrics=['accuracy'])"
      ]
    },
    {
      "cell_type": "code",
      "execution_count": 13,
      "metadata": {
        "id": "MSGIFaw8ZCi7"
      },
      "outputs": [],
      "source": [
        "STEP_SIZE_TRAIN = train_datagen.n//train_datagen.batch_size\n",
        "STEP_SIZE_VALID = test_datagen.n//test_datagen.batch_size"
      ]
    },
    {
      "cell_type": "code",
      "execution_count": 14,
      "metadata": {
        "colab": {
          "base_uri": "https://localhost:8080/"
        },
        "id": "xMD-tyDtZEoU",
        "outputId": "3ec54d8d-2579-44f0-f3b6-1189c3fbcb65"
      },
      "outputs": [
        {
          "output_type": "stream",
          "name": "stdout",
          "text": [
            "Epoch 1/157\n",
            "3500/3500 [==============================] - 154s 41ms/step - loss: 0.9716 - accuracy: 0.6606 - val_loss: 0.7197 - val_accuracy: 0.7416 - lr: 0.0010\n",
            "Epoch 2/157\n",
            "3500/3500 [==============================] - 118s 34ms/step - loss: 0.4671 - accuracy: 0.8411 - val_loss: 0.5775 - val_accuracy: 0.7870 - lr: 0.0010\n",
            "Epoch 3/157\n",
            "3500/3500 [==============================] - 139s 40ms/step - loss: 0.3662 - accuracy: 0.8741 - val_loss: 0.4771 - val_accuracy: 0.8261 - lr: 0.0010\n",
            "Epoch 4/157\n",
            "3500/3500 [==============================] - 138s 39ms/step - loss: 0.3063 - accuracy: 0.8946 - val_loss: 0.4437 - val_accuracy: 0.8315 - lr: 0.0010\n",
            "Epoch 5/157\n",
            "3500/3500 [==============================] - 119s 34ms/step - loss: 0.2685 - accuracy: 0.9081 - val_loss: 0.4018 - val_accuracy: 0.8517 - lr: 0.0010\n",
            "Epoch 6/157\n",
            "3500/3500 [==============================] - 119s 34ms/step - loss: 0.2439 - accuracy: 0.9166 - val_loss: 0.3665 - val_accuracy: 0.8617 - lr: 0.0010\n",
            "Epoch 7/157\n",
            "3500/3500 [==============================] - 138s 39ms/step - loss: 0.2255 - accuracy: 0.9230 - val_loss: 0.3227 - val_accuracy: 0.8825 - lr: 0.0010\n",
            "Epoch 8/157\n",
            "3500/3500 [==============================] - 118s 34ms/step - loss: 0.2073 - accuracy: 0.9300 - val_loss: 0.3722 - val_accuracy: 0.8621 - lr: 0.0010\n",
            "Epoch 9/157\n",
            "3500/3500 [==============================] - 116s 33ms/step - loss: 0.1953 - accuracy: 0.9336 - val_loss: 0.3497 - val_accuracy: 0.8775 - lr: 0.0010\n",
            "Epoch 10/157\n",
            "3500/3500 [==============================] - 137s 39ms/step - loss: 0.1862 - accuracy: 0.9370 - val_loss: 0.3710 - val_accuracy: 0.8598 - lr: 0.0010\n",
            "Epoch 11/157\n",
            "3500/3500 [==============================] - 136s 39ms/step - loss: 0.1779 - accuracy: 0.9401 - val_loss: 0.2762 - val_accuracy: 0.8988 - lr: 0.0010\n",
            "Epoch 12/157\n",
            "3500/3500 [==============================] - 117s 33ms/step - loss: 0.1696 - accuracy: 0.9423 - val_loss: 0.2903 - val_accuracy: 0.8971 - lr: 0.0010\n",
            "Epoch 13/157\n",
            "3500/3500 [==============================] - 136s 39ms/step - loss: 0.1675 - accuracy: 0.9433 - val_loss: 0.3075 - val_accuracy: 0.8887 - lr: 0.0010\n",
            "Epoch 14/157\n",
            "3500/3500 [==============================] - 138s 39ms/step - loss: 0.1585 - accuracy: 0.9477 - val_loss: 0.2953 - val_accuracy: 0.8927 - lr: 0.0010\n",
            "Epoch 15/157\n",
            "3500/3500 [==============================] - 137s 39ms/step - loss: 0.1555 - accuracy: 0.9474 - val_loss: 0.2807 - val_accuracy: 0.9004 - lr: 0.0010\n",
            "Epoch 16/157\n",
            "3500/3500 [==============================] - 116s 33ms/step - loss: 0.1507 - accuracy: 0.9495 - val_loss: 0.3037 - val_accuracy: 0.8941 - lr: 0.0010\n",
            "Epoch 17/157\n",
            "3500/3500 [==============================] - 114s 33ms/step - loss: 0.1218 - accuracy: 0.9598 - val_loss: 0.2628 - val_accuracy: 0.9082 - lr: 3.1623e-04\n",
            "Epoch 18/157\n",
            "3500/3500 [==============================] - 115s 33ms/step - loss: 0.1124 - accuracy: 0.9627 - val_loss: 0.2755 - val_accuracy: 0.9033 - lr: 3.1623e-04\n",
            "Epoch 19/157\n",
            "3500/3500 [==============================] - 135s 39ms/step - loss: 0.1068 - accuracy: 0.9646 - val_loss: 0.2206 - val_accuracy: 0.9228 - lr: 3.1623e-04\n",
            "Epoch 20/157\n",
            "3500/3500 [==============================] - 136s 39ms/step - loss: 0.1074 - accuracy: 0.9644 - val_loss: 0.2460 - val_accuracy: 0.9134 - lr: 3.1623e-04\n",
            "Epoch 21/157\n",
            "3500/3500 [==============================] - 136s 39ms/step - loss: 0.1033 - accuracy: 0.9661 - val_loss: 0.2444 - val_accuracy: 0.9154 - lr: 3.1623e-04\n",
            "Epoch 22/157\n",
            "3500/3500 [==============================] - 117s 33ms/step - loss: 0.1012 - accuracy: 0.9665 - val_loss: 0.2563 - val_accuracy: 0.9099 - lr: 3.1623e-04\n",
            "Epoch 23/157\n",
            "3500/3500 [==============================] - 136s 39ms/step - loss: 0.1003 - accuracy: 0.9665 - val_loss: 0.3149 - val_accuracy: 0.8875 - lr: 3.1623e-04\n",
            "Epoch 24/157\n",
            "3500/3500 [==============================] - 137s 39ms/step - loss: 0.0983 - accuracy: 0.9672 - val_loss: 0.2316 - val_accuracy: 0.9163 - lr: 3.1623e-04\n",
            "Epoch 25/157\n",
            "3500/3500 [==============================] - 137s 39ms/step - loss: 0.0918 - accuracy: 0.9695 - val_loss: 0.2150 - val_accuracy: 0.9249 - lr: 1.0000e-04\n",
            "Epoch 26/157\n",
            "3500/3500 [==============================] - 118s 34ms/step - loss: 0.0890 - accuracy: 0.9703 - val_loss: 0.2246 - val_accuracy: 0.9179 - lr: 1.0000e-04\n",
            "Epoch 27/157\n",
            "3500/3500 [==============================] - 137s 39ms/step - loss: 0.0882 - accuracy: 0.9712 - val_loss: 0.2141 - val_accuracy: 0.9257 - lr: 1.0000e-04\n",
            "Epoch 28/157\n",
            "3500/3500 [==============================] - 117s 34ms/step - loss: 0.0868 - accuracy: 0.9712 - val_loss: 0.2348 - val_accuracy: 0.9183 - lr: 1.0000e-04\n",
            "Epoch 29/157\n",
            "3500/3500 [==============================] - 117s 34ms/step - loss: 0.0858 - accuracy: 0.9714 - val_loss: 0.2184 - val_accuracy: 0.9233 - lr: 1.0000e-04\n",
            "Epoch 30/157\n",
            "3500/3500 [==============================] - 118s 34ms/step - loss: 0.0846 - accuracy: 0.9718 - val_loss: 0.2258 - val_accuracy: 0.9214 - lr: 1.0000e-04\n",
            "Epoch 31/157\n",
            "3500/3500 [==============================] - 139s 40ms/step - loss: 0.0834 - accuracy: 0.9723 - val_loss: 0.2358 - val_accuracy: 0.9149 - lr: 3.1623e-05\n",
            "Epoch 32/157\n",
            "3500/3500 [==============================] - 137s 39ms/step - loss: 0.0837 - accuracy: 0.9723 - val_loss: 0.2201 - val_accuracy: 0.9219 - lr: 3.1623e-05\n",
            "Epoch 33/157\n",
            "3500/3500 [==============================] - 138s 39ms/step - loss: 0.0806 - accuracy: 0.9736 - val_loss: 0.2199 - val_accuracy: 0.9237 - lr: 3.1623e-05\n",
            "Epoch 34/157\n",
            "3500/3500 [==============================] - 117s 33ms/step - loss: 0.0825 - accuracy: 0.9727 - val_loss: 0.2191 - val_accuracy: 0.9232 - lr: 3.1623e-05\n",
            "Epoch 35/157\n",
            "3500/3500 [==============================] - 118s 34ms/step - loss: 0.0813 - accuracy: 0.9727 - val_loss: 0.2288 - val_accuracy: 0.9224 - lr: 3.1623e-05\n",
            "Epoch 36/157\n",
            "3500/3500 [==============================] - 136s 39ms/step - loss: 0.0813 - accuracy: 0.9727 - val_loss: 0.2202 - val_accuracy: 0.9225 - lr: 1.0000e-05\n",
            "Epoch 37/157\n",
            "3500/3500 [==============================] - 117s 34ms/step - loss: 0.0797 - accuracy: 0.9732 - val_loss: 0.2165 - val_accuracy: 0.9230 - lr: 1.0000e-05\n",
            "Epoch 38/157\n",
            "3500/3500 [==============================] - 136s 39ms/step - loss: 0.0829 - accuracy: 0.9729 - val_loss: 0.2180 - val_accuracy: 0.9228 - lr: 1.0000e-05\n",
            "Epoch 39/157\n",
            "3500/3500 [==============================] - 137s 39ms/step - loss: 0.0796 - accuracy: 0.9738 - val_loss: 0.2117 - val_accuracy: 0.9242 - lr: 1.0000e-05\n",
            "Epoch 40/157\n",
            "3500/3500 [==============================] - 137s 39ms/step - loss: 0.0796 - accuracy: 0.9732 - val_loss: 0.2175 - val_accuracy: 0.9246 - lr: 1.0000e-05\n",
            "Epoch 41/157\n",
            "3500/3500 [==============================] - 137s 39ms/step - loss: 0.0805 - accuracy: 0.9732 - val_loss: 0.2203 - val_accuracy: 0.9239 - lr: 1.0000e-05\n",
            "Epoch 42/157\n",
            "3500/3500 [==============================] - 137s 39ms/step - loss: 0.0785 - accuracy: 0.9740 - val_loss: 0.2162 - val_accuracy: 0.9252 - lr: 1.0000e-05\n",
            "Epoch 43/157\n",
            "3500/3500 [==============================] - 136s 39ms/step - loss: 0.0802 - accuracy: 0.9734 - val_loss: 0.2210 - val_accuracy: 0.9234 - lr: 1.0000e-05\n",
            "Epoch 44/157\n",
            "3500/3500 [==============================] - 137s 39ms/step - loss: 0.0774 - accuracy: 0.9748 - val_loss: 0.2136 - val_accuracy: 0.9258 - lr: 1.0000e-05\n",
            "Epoch 45/157\n",
            "3500/3500 [==============================] - 136s 39ms/step - loss: 0.0813 - accuracy: 0.9734 - val_loss: 0.2167 - val_accuracy: 0.9241 - lr: 3.1623e-06\n",
            "Epoch 46/157\n",
            "3500/3500 [==============================] - 139s 40ms/step - loss: 0.0781 - accuracy: 0.9743 - val_loss: 0.2190 - val_accuracy: 0.9229 - lr: 3.1623e-06\n",
            "Epoch 47/157\n",
            "3500/3500 [==============================] - 117s 33ms/step - loss: 0.0773 - accuracy: 0.9738 - val_loss: 0.2196 - val_accuracy: 0.9229 - lr: 3.1623e-06\n",
            "Epoch 48/157\n",
            "3500/3500 [==============================] - 137s 39ms/step - loss: 0.0799 - accuracy: 0.9733 - val_loss: 0.2152 - val_accuracy: 0.9240 - lr: 3.1623e-06\n",
            "Epoch 49/157\n",
            "3500/3500 [==============================] - 137s 39ms/step - loss: 0.0791 - accuracy: 0.9737 - val_loss: 0.2172 - val_accuracy: 0.9218 - lr: 3.1623e-06\n",
            "Epoch 50/157\n",
            "3500/3500 [==============================] - 136s 39ms/step - loss: 0.0790 - accuracy: 0.9738 - val_loss: 0.2213 - val_accuracy: 0.9222 - lr: 1.0000e-06\n",
            "Epoch 51/157\n",
            "3500/3500 [==============================] - 137s 39ms/step - loss: 0.0790 - accuracy: 0.9740 - val_loss: 0.2216 - val_accuracy: 0.9231 - lr: 1.0000e-06\n",
            "Epoch 52/157\n",
            "3500/3500 [==============================] - 116s 33ms/step - loss: 0.0810 - accuracy: 0.9728 - val_loss: 0.2108 - val_accuracy: 0.9273 - lr: 1.0000e-06\n",
            "Epoch 53/157\n",
            "3500/3500 [==============================] - 136s 39ms/step - loss: 0.0769 - accuracy: 0.9742 - val_loss: 0.2035 - val_accuracy: 0.9290 - lr: 1.0000e-06\n",
            "Epoch 54/157\n",
            "3500/3500 [==============================] - 117s 34ms/step - loss: 0.0791 - accuracy: 0.9733 - val_loss: 0.2105 - val_accuracy: 0.9263 - lr: 1.0000e-06\n",
            "Epoch 55/157\n",
            "3500/3500 [==============================] - 116s 33ms/step - loss: 0.0815 - accuracy: 0.9726 - val_loss: 0.2155 - val_accuracy: 0.9244 - lr: 1.0000e-06\n",
            "Epoch 56/157\n",
            "3500/3500 [==============================] - 116s 33ms/step - loss: 0.0797 - accuracy: 0.9743 - val_loss: 0.2160 - val_accuracy: 0.9241 - lr: 1.0000e-06\n",
            "Epoch 57/157\n",
            "3500/3500 [==============================] - 118s 34ms/step - loss: 0.0805 - accuracy: 0.9730 - val_loss: 0.2188 - val_accuracy: 0.9232 - lr: 1.0000e-06\n",
            "Epoch 58/157\n",
            "3500/3500 [==============================] - 116s 33ms/step - loss: 0.0780 - accuracy: 0.9742 - val_loss: 0.2227 - val_accuracy: 0.9247 - lr: 1.0000e-06\n",
            "Epoch 59/157\n",
            "3500/3500 [==============================] - 138s 39ms/step - loss: 0.0790 - accuracy: 0.9739 - val_loss: 0.2159 - val_accuracy: 0.9260 - lr: 3.1623e-07\n",
            "Epoch 60/157\n",
            "3500/3500 [==============================] - 137s 39ms/step - loss: 0.0803 - accuracy: 0.9733 - val_loss: 0.2154 - val_accuracy: 0.9249 - lr: 3.1623e-07\n",
            "Epoch 61/157\n",
            "3500/3500 [==============================] - 137s 39ms/step - loss: 0.0770 - accuracy: 0.9744 - val_loss: 0.2149 - val_accuracy: 0.9242 - lr: 3.1623e-07\n",
            "Epoch 62/157\n",
            "3500/3500 [==============================] - 137s 39ms/step - loss: 0.0808 - accuracy: 0.9730 - val_loss: 0.2091 - val_accuracy: 0.9267 - lr: 3.1623e-07\n",
            "Epoch 63/157\n",
            "3500/3500 [==============================] - 136s 39ms/step - loss: 0.0785 - accuracy: 0.9742 - val_loss: 0.2187 - val_accuracy: 0.9255 - lr: 3.1623e-07\n",
            "Epoch 64/157\n",
            "3500/3500 [==============================] - 117s 33ms/step - loss: 0.0795 - accuracy: 0.9738 - val_loss: 0.2171 - val_accuracy: 0.9250 - lr: 1.0000e-07\n",
            "Epoch 65/157\n",
            "3500/3500 [==============================] - 136s 39ms/step - loss: 0.0811 - accuracy: 0.9730 - val_loss: 0.2088 - val_accuracy: 0.9264 - lr: 1.0000e-07\n",
            "Epoch 66/157\n",
            "3500/3500 [==============================] - 116s 33ms/step - loss: 0.0809 - accuracy: 0.9730 - val_loss: 0.2209 - val_accuracy: 0.9242 - lr: 1.0000e-07\n",
            "Epoch 67/157\n",
            "3500/3500 [==============================] - 117s 33ms/step - loss: 0.0796 - accuracy: 0.9735 - val_loss: 0.2115 - val_accuracy: 0.9253 - lr: 1.0000e-07\n",
            "Epoch 68/157\n",
            "3500/3500 [==============================] - 136s 39ms/step - loss: 0.0802 - accuracy: 0.9740 - val_loss: 0.2113 - val_accuracy: 0.9256 - lr: 1.0000e-07\n",
            "Epoch 69/157\n",
            "3500/3500 [==============================] - 137s 39ms/step - loss: 0.0814 - accuracy: 0.9735 - val_loss: 0.2187 - val_accuracy: 0.9242 - lr: 3.1623e-08\n",
            "Epoch 70/157\n",
            "3500/3500 [==============================] - 139s 40ms/step - loss: 0.0783 - accuracy: 0.9745 - val_loss: 0.2112 - val_accuracy: 0.9256 - lr: 3.1623e-08\n",
            "Epoch 71/157\n",
            "3500/3500 [==============================] - 137s 39ms/step - loss: 0.0808 - accuracy: 0.9734 - val_loss: 0.2115 - val_accuracy: 0.9260 - lr: 3.1623e-08\n",
            "Epoch 72/157\n",
            "3500/3500 [==============================] - 137s 39ms/step - loss: 0.0783 - accuracy: 0.9740 - val_loss: 0.2182 - val_accuracy: 0.9242 - lr: 3.1623e-08\n",
            "Epoch 73/157\n",
            "3500/3500 [==============================] - 116s 33ms/step - loss: 0.0785 - accuracy: 0.9740 - val_loss: 0.2171 - val_accuracy: 0.9242 - lr: 3.1623e-08\n",
            "Epoch 74/157\n",
            "3500/3500 [==============================] - 116s 33ms/step - loss: 0.0795 - accuracy: 0.9737 - val_loss: 0.2141 - val_accuracy: 0.9242 - lr: 1.0000e-08\n",
            "Epoch 75/157\n",
            "3500/3500 [==============================] - 136s 39ms/step - loss: 0.0806 - accuracy: 0.9737 - val_loss: 0.2151 - val_accuracy: 0.9247 - lr: 1.0000e-08\n",
            "Epoch 76/157\n",
            "3500/3500 [==============================] - 137s 39ms/step - loss: 0.0803 - accuracy: 0.9733 - val_loss: 0.2103 - val_accuracy: 0.9263 - lr: 1.0000e-08\n",
            "Epoch 77/157\n",
            "3500/3500 [==============================] - 117s 33ms/step - loss: 0.0806 - accuracy: 0.9735 - val_loss: 0.2165 - val_accuracy: 0.9234 - lr: 1.0000e-08\n",
            "Epoch 78/157\n",
            "3500/3500 [==============================] - 136s 39ms/step - loss: 0.0798 - accuracy: 0.9740 - val_loss: 0.2071 - val_accuracy: 0.9275 - lr: 1.0000e-08\n",
            "Epoch 79/157\n",
            "3500/3500 [==============================] - 117s 33ms/step - loss: 0.0796 - accuracy: 0.9735 - val_loss: 0.2141 - val_accuracy: 0.9238 - lr: 3.1623e-09\n",
            "Epoch 80/157\n",
            "3500/3500 [==============================] - 136s 39ms/step - loss: 0.0782 - accuracy: 0.9742 - val_loss: 0.2154 - val_accuracy: 0.9256 - lr: 3.1623e-09\n",
            "Epoch 81/157\n",
            "3500/3500 [==============================] - 137s 39ms/step - loss: 0.0778 - accuracy: 0.9743 - val_loss: 0.2157 - val_accuracy: 0.9233 - lr: 3.1623e-09\n",
            "Epoch 82/157\n",
            "3500/3500 [==============================] - 119s 34ms/step - loss: 0.0774 - accuracy: 0.9742 - val_loss: 0.2125 - val_accuracy: 0.9260 - lr: 3.1623e-09\n",
            "Epoch 83/157\n",
            "3500/3500 [==============================] - 137s 39ms/step - loss: 0.0789 - accuracy: 0.9738 - val_loss: 0.2125 - val_accuracy: 0.9245 - lr: 3.1623e-09\n",
            "Epoch 84/157\n",
            "3500/3500 [==============================] - 138s 39ms/step - loss: 0.0786 - accuracy: 0.9737 - val_loss: 0.2186 - val_accuracy: 0.9263 - lr: 1.0000e-09\n",
            "Epoch 85/157\n",
            "3500/3500 [==============================] - 116s 33ms/step - loss: 0.0813 - accuracy: 0.9732 - val_loss: 0.2163 - val_accuracy: 0.9249 - lr: 1.0000e-09\n",
            "Epoch 86/157\n",
            "3500/3500 [==============================] - 116s 33ms/step - loss: 0.0799 - accuracy: 0.9736 - val_loss: 0.2163 - val_accuracy: 0.9257 - lr: 1.0000e-09\n",
            "Epoch 87/157\n",
            "3500/3500 [==============================] - 136s 39ms/step - loss: 0.0789 - accuracy: 0.9747 - val_loss: 0.2149 - val_accuracy: 0.9253 - lr: 1.0000e-09\n",
            "Epoch 88/157\n",
            "3500/3500 [==============================] - 136s 39ms/step - loss: 0.0781 - accuracy: 0.9745 - val_loss: 0.2176 - val_accuracy: 0.9239 - lr: 1.0000e-09\n",
            "Epoch 89/157\n",
            "3500/3500 [==============================] - 117s 33ms/step - loss: 0.0804 - accuracy: 0.9733 - val_loss: 0.2154 - val_accuracy: 0.9242 - lr: 3.1623e-10\n",
            "Epoch 90/157\n",
            "3500/3500 [==============================] - 119s 34ms/step - loss: 0.0810 - accuracy: 0.9731 - val_loss: 0.2108 - val_accuracy: 0.9278 - lr: 3.1623e-10\n",
            "Epoch 91/157\n",
            "3500/3500 [==============================] - 117s 33ms/step - loss: 0.0796 - accuracy: 0.9738 - val_loss: 0.2121 - val_accuracy: 0.9260 - lr: 3.1623e-10\n",
            "Epoch 92/157\n",
            "3500/3500 [==============================] - 137s 39ms/step - loss: 0.0784 - accuracy: 0.9735 - val_loss: 0.2214 - val_accuracy: 0.9219 - lr: 3.1623e-10\n",
            "Epoch 93/157\n",
            "3500/3500 [==============================] - 117s 33ms/step - loss: 0.0782 - accuracy: 0.9739 - val_loss: 0.2119 - val_accuracy: 0.9255 - lr: 3.1623e-10\n",
            "Epoch 94/157\n",
            "3500/3500 [==============================] - 116s 33ms/step - loss: 0.0797 - accuracy: 0.9735 - val_loss: 0.2147 - val_accuracy: 0.9233 - lr: 1.0000e-10\n",
            "Epoch 95/157\n",
            "3500/3500 [==============================] - 136s 39ms/step - loss: 0.0769 - accuracy: 0.9741 - val_loss: 0.2206 - val_accuracy: 0.9225 - lr: 1.0000e-10\n",
            "Epoch 96/157\n",
            "3500/3500 [==============================] - 137s 39ms/step - loss: 0.0795 - accuracy: 0.9739 - val_loss: 0.2244 - val_accuracy: 0.9215 - lr: 1.0000e-10\n",
            "Epoch 97/157\n",
            "3500/3500 [==============================] - 116s 33ms/step - loss: 0.0799 - accuracy: 0.9731 - val_loss: 0.2128 - val_accuracy: 0.9246 - lr: 1.0000e-10\n",
            "Epoch 98/157\n",
            "3500/3500 [==============================] - 116s 33ms/step - loss: 0.0792 - accuracy: 0.9737 - val_loss: 0.2165 - val_accuracy: 0.9222 - lr: 1.0000e-10\n",
            "Epoch 99/157\n",
            "3500/3500 [==============================] - 137s 39ms/step - loss: 0.0796 - accuracy: 0.9739 - val_loss: 0.2119 - val_accuracy: 0.9249 - lr: 3.1623e-11\n",
            "Epoch 100/157\n",
            "3500/3500 [==============================] - 138s 39ms/step - loss: 0.0802 - accuracy: 0.9734 - val_loss: 0.2196 - val_accuracy: 0.9224 - lr: 3.1623e-11\n",
            "Epoch 101/157\n",
            "3500/3500 [==============================] - 137s 39ms/step - loss: 0.0800 - accuracy: 0.9736 - val_loss: 0.2150 - val_accuracy: 0.9248 - lr: 3.1623e-11\n",
            "Epoch 102/157\n",
            "3500/3500 [==============================] - 138s 40ms/step - loss: 0.0794 - accuracy: 0.9738 - val_loss: 0.2206 - val_accuracy: 0.9239 - lr: 3.1623e-11\n",
            "Epoch 103/157\n",
            "3500/3500 [==============================] - 116s 33ms/step - loss: 0.0799 - accuracy: 0.9738 - val_loss: 0.2192 - val_accuracy: 0.9245 - lr: 3.1623e-11\n",
            "Epoch 104/157\n",
            "3500/3500 [==============================] - 138s 39ms/step - loss: 0.0792 - accuracy: 0.9741 - val_loss: 0.2233 - val_accuracy: 0.9231 - lr: 1.0000e-11\n",
            "Epoch 105/157\n",
            "3500/3500 [==============================] - 118s 34ms/step - loss: 0.0787 - accuracy: 0.9736 - val_loss: 0.2104 - val_accuracy: 0.9265 - lr: 1.0000e-11\n",
            "Epoch 106/157\n",
            "3500/3500 [==============================] - 138s 39ms/step - loss: 0.0797 - accuracy: 0.9736 - val_loss: 0.2193 - val_accuracy: 0.9246 - lr: 1.0000e-11\n",
            "Epoch 107/157\n",
            "3500/3500 [==============================] - 116s 33ms/step - loss: 0.0787 - accuracy: 0.9739 - val_loss: 0.2164 - val_accuracy: 0.9245 - lr: 1.0000e-11\n",
            "Epoch 108/157\n",
            "3500/3500 [==============================] - 137s 39ms/step - loss: 0.0792 - accuracy: 0.9742 - val_loss: 0.2097 - val_accuracy: 0.9286 - lr: 1.0000e-11\n",
            "Epoch 109/157\n",
            "3500/3500 [==============================] - 137s 39ms/step - loss: 0.0808 - accuracy: 0.9736 - val_loss: 0.2161 - val_accuracy: 0.9245 - lr: 3.1623e-12\n",
            "Epoch 110/157\n",
            "3500/3500 [==============================] - 117s 33ms/step - loss: 0.0802 - accuracy: 0.9734 - val_loss: 0.2076 - val_accuracy: 0.9273 - lr: 3.1623e-12\n",
            "Epoch 111/157\n",
            "3500/3500 [==============================] - 116s 33ms/step - loss: 0.0803 - accuracy: 0.9739 - val_loss: 0.2149 - val_accuracy: 0.9248 - lr: 3.1623e-12\n",
            "Epoch 112/157\n",
            "3500/3500 [==============================] - 117s 33ms/step - loss: 0.0791 - accuracy: 0.9735 - val_loss: 0.2103 - val_accuracy: 0.9255 - lr: 3.1623e-12\n",
            "Epoch 113/157\n",
            "3500/3500 [==============================] - 116s 33ms/step - loss: 0.0787 - accuracy: 0.9738 - val_loss: 0.2111 - val_accuracy: 0.9262 - lr: 3.1623e-12\n",
            "Epoch 114/157\n",
            "3500/3500 [==============================] - 117s 34ms/step - loss: 0.0815 - accuracy: 0.9734 - val_loss: 0.2152 - val_accuracy: 0.9251 - lr: 1.0000e-12\n",
            "Epoch 115/157\n",
            "3500/3500 [==============================] - 137s 39ms/step - loss: 0.0787 - accuracy: 0.9738 - val_loss: 0.2146 - val_accuracy: 0.9244 - lr: 1.0000e-12\n",
            "Epoch 116/157\n",
            "3500/3500 [==============================] - 138s 39ms/step - loss: 0.0807 - accuracy: 0.9737 - val_loss: 0.2130 - val_accuracy: 0.9267 - lr: 1.0000e-12\n",
            "Epoch 117/157\n",
            "3500/3500 [==============================] - 116s 33ms/step - loss: 0.0791 - accuracy: 0.9735 - val_loss: 0.2170 - val_accuracy: 0.9249 - lr: 1.0000e-12\n",
            "Epoch 118/157\n",
            "3500/3500 [==============================] - 138s 39ms/step - loss: 0.0784 - accuracy: 0.9744 - val_loss: 0.2198 - val_accuracy: 0.9227 - lr: 1.0000e-12\n",
            "Epoch 119/157\n",
            "3500/3500 [==============================] - 137s 39ms/step - loss: 0.0809 - accuracy: 0.9734 - val_loss: 0.2071 - val_accuracy: 0.9263 - lr: 3.1623e-13\n",
            "Epoch 120/157\n",
            "3500/3500 [==============================] - 118s 34ms/step - loss: 0.0797 - accuracy: 0.9742 - val_loss: 0.2131 - val_accuracy: 0.9252 - lr: 3.1623e-13\n",
            "Epoch 121/157\n",
            "3500/3500 [==============================] - 117s 33ms/step - loss: 0.0797 - accuracy: 0.9732 - val_loss: 0.2167 - val_accuracy: 0.9241 - lr: 3.1623e-13\n",
            "Epoch 122/157\n",
            "3500/3500 [==============================] - 118s 34ms/step - loss: 0.0787 - accuracy: 0.9740 - val_loss: 0.2203 - val_accuracy: 0.9246 - lr: 3.1623e-13\n",
            "Epoch 123/157\n",
            "3500/3500 [==============================] - 116s 33ms/step - loss: 0.0772 - accuracy: 0.9744 - val_loss: 0.2173 - val_accuracy: 0.9238 - lr: 3.1623e-13\n",
            "Epoch 124/157\n",
            "3500/3500 [==============================] - 117s 33ms/step - loss: 0.0793 - accuracy: 0.9734 - val_loss: 0.2124 - val_accuracy: 0.9248 - lr: 1.0000e-13\n",
            "Epoch 125/157\n",
            "3500/3500 [==============================] - 116s 33ms/step - loss: 0.0785 - accuracy: 0.9738 - val_loss: 0.2165 - val_accuracy: 0.9227 - lr: 1.0000e-13\n",
            "Epoch 126/157\n",
            "3500/3500 [==============================] - 117s 33ms/step - loss: 0.0785 - accuracy: 0.9735 - val_loss: 0.2152 - val_accuracy: 0.9281 - lr: 1.0000e-13\n",
            "Epoch 127/157\n",
            "3500/3500 [==============================] - 117s 33ms/step - loss: 0.0800 - accuracy: 0.9734 - val_loss: 0.2169 - val_accuracy: 0.9240 - lr: 1.0000e-13\n",
            "Epoch 128/157\n",
            "3500/3500 [==============================] - 118s 34ms/step - loss: 0.0788 - accuracy: 0.9739 - val_loss: 0.2208 - val_accuracy: 0.9229 - lr: 1.0000e-13\n",
            "Epoch 129/157\n",
            "3500/3500 [==============================] - 118s 34ms/step - loss: 0.0800 - accuracy: 0.9737 - val_loss: 0.2163 - val_accuracy: 0.9246 - lr: 3.1623e-14\n",
            "Epoch 130/157\n",
            "3500/3500 [==============================] - 139s 40ms/step - loss: 0.0791 - accuracy: 0.9742 - val_loss: 0.2192 - val_accuracy: 0.9242 - lr: 3.1623e-14\n",
            "Epoch 131/157\n",
            "3500/3500 [==============================] - 118s 34ms/step - loss: 0.0804 - accuracy: 0.9734 - val_loss: 0.2181 - val_accuracy: 0.9245 - lr: 3.1623e-14\n",
            "Epoch 132/157\n",
            "3500/3500 [==============================] - 118s 34ms/step - loss: 0.0791 - accuracy: 0.9736 - val_loss: 0.2178 - val_accuracy: 0.9239 - lr: 3.1623e-14\n",
            "Epoch 133/157\n",
            "3500/3500 [==============================] - 118s 34ms/step - loss: 0.0796 - accuracy: 0.9738 - val_loss: 0.2145 - val_accuracy: 0.9255 - lr: 3.1623e-14\n",
            "Epoch 134/157\n",
            "3500/3500 [==============================] - 139s 40ms/step - loss: 0.0807 - accuracy: 0.9730 - val_loss: 0.2189 - val_accuracy: 0.9236 - lr: 1.0000e-14\n",
            "Epoch 135/157\n",
            "3500/3500 [==============================] - 118s 34ms/step - loss: 0.0794 - accuracy: 0.9740 - val_loss: 0.2217 - val_accuracy: 0.9242 - lr: 1.0000e-14\n",
            "Epoch 136/157\n",
            "3500/3500 [==============================] - 118s 34ms/step - loss: 0.0802 - accuracy: 0.9731 - val_loss: 0.2159 - val_accuracy: 0.9256 - lr: 1.0000e-14\n",
            "Epoch 137/157\n",
            "3500/3500 [==============================] - 118s 34ms/step - loss: 0.0796 - accuracy: 0.9736 - val_loss: 0.2209 - val_accuracy: 0.9232 - lr: 1.0000e-14\n",
            "Epoch 138/157\n",
            "3500/3500 [==============================] - 119s 34ms/step - loss: 0.0768 - accuracy: 0.9745 - val_loss: 0.2141 - val_accuracy: 0.9273 - lr: 1.0000e-14\n",
            "Epoch 139/157\n",
            "3500/3500 [==============================] - 118s 34ms/step - loss: 0.0784 - accuracy: 0.9742 - val_loss: 0.2134 - val_accuracy: 0.9258 - lr: 3.1623e-15\n",
            "Epoch 140/157\n",
            "3500/3500 [==============================] - 139s 40ms/step - loss: 0.0796 - accuracy: 0.9732 - val_loss: 0.2147 - val_accuracy: 0.9246 - lr: 3.1623e-15\n",
            "Epoch 141/157\n",
            "3500/3500 [==============================] - 118s 34ms/step - loss: 0.0794 - accuracy: 0.9742 - val_loss: 0.2117 - val_accuracy: 0.9262 - lr: 3.1623e-15\n",
            "Epoch 142/157\n",
            "3500/3500 [==============================] - 119s 34ms/step - loss: 0.0778 - accuracy: 0.9741 - val_loss: 0.2093 - val_accuracy: 0.9279 - lr: 3.1623e-15\n",
            "Epoch 143/157\n",
            "3500/3500 [==============================] - 118s 34ms/step - loss: 0.0780 - accuracy: 0.9742 - val_loss: 0.2141 - val_accuracy: 0.9240 - lr: 3.1623e-15\n",
            "Epoch 144/157\n",
            "3500/3500 [==============================] - 119s 34ms/step - loss: 0.0795 - accuracy: 0.9739 - val_loss: 0.2143 - val_accuracy: 0.9255 - lr: 1.0000e-15\n",
            "Epoch 145/157\n",
            "3500/3500 [==============================] - 119s 34ms/step - loss: 0.0788 - accuracy: 0.9736 - val_loss: 0.2123 - val_accuracy: 0.9271 - lr: 1.0000e-15\n",
            "Epoch 146/157\n",
            "3500/3500 [==============================] - 139s 40ms/step - loss: 0.0788 - accuracy: 0.9730 - val_loss: 0.2127 - val_accuracy: 0.9259 - lr: 1.0000e-15\n",
            "Epoch 147/157\n",
            "3500/3500 [==============================] - 139s 40ms/step - loss: 0.0777 - accuracy: 0.9741 - val_loss: 0.2180 - val_accuracy: 0.9248 - lr: 1.0000e-15\n",
            "Epoch 148/157\n",
            "3500/3500 [==============================] - 120s 34ms/step - loss: 0.0791 - accuracy: 0.9735 - val_loss: 0.2181 - val_accuracy: 0.9228 - lr: 1.0000e-15\n",
            "Epoch 149/157\n",
            "3500/3500 [==============================] - 119s 34ms/step - loss: 0.0805 - accuracy: 0.9739 - val_loss: 0.2162 - val_accuracy: 0.9245 - lr: 3.1623e-16\n",
            "Epoch 150/157\n",
            "3500/3500 [==============================] - 119s 34ms/step - loss: 0.0782 - accuracy: 0.9742 - val_loss: 0.2173 - val_accuracy: 0.9244 - lr: 3.1623e-16\n",
            "Epoch 151/157\n",
            "3500/3500 [==============================] - 138s 40ms/step - loss: 0.0768 - accuracy: 0.9742 - val_loss: 0.2105 - val_accuracy: 0.9263 - lr: 3.1623e-16\n",
            "Epoch 152/157\n",
            "3500/3500 [==============================] - 118s 34ms/step - loss: 0.0782 - accuracy: 0.9739 - val_loss: 0.2194 - val_accuracy: 0.9247 - lr: 3.1623e-16\n",
            "Epoch 153/157\n",
            "3500/3500 [==============================] - 139s 40ms/step - loss: 0.0794 - accuracy: 0.9739 - val_loss: 0.2189 - val_accuracy: 0.9248 - lr: 3.1623e-16\n",
            "Epoch 154/157\n",
            "3500/3500 [==============================] - 139s 40ms/step - loss: 0.0808 - accuracy: 0.9734 - val_loss: 0.2134 - val_accuracy: 0.9255 - lr: 1.0000e-16\n",
            "Epoch 155/157\n",
            "3500/3500 [==============================] - 119s 34ms/step - loss: 0.0784 - accuracy: 0.9737 - val_loss: 0.2188 - val_accuracy: 0.9241 - lr: 1.0000e-16\n",
            "Epoch 156/157\n",
            "3500/3500 [==============================] - 140s 40ms/step - loss: 0.0794 - accuracy: 0.9739 - val_loss: 0.2155 - val_accuracy: 0.9237 - lr: 1.0000e-16\n",
            "Epoch 157/157\n",
            "3500/3500 [==============================] - 119s 34ms/step - loss: 0.0760 - accuracy: 0.9744 - val_loss: 0.2157 - val_accuracy: 0.9253 - lr: 1.0000e-16\n"
          ]
        }
      ],
      "source": [
        "history = model.fit(train_datagen,\n",
        "                    steps_per_epoch=STEP_SIZE_TRAIN,\n",
        "                    epochs=157,\n",
        "                    validation_data=test_datagen,\n",
        "                    validation_steps=STEP_SIZE_VALID,\n",
        "                    callbacks=[reduce_lr])"
      ]
    },
    {
      "cell_type": "code",
      "execution_count": 15,
      "metadata": {
        "id": "RrTbL-tbZHyD",
        "colab": {
          "base_uri": "https://localhost:8080/",
          "height": 312
        },
        "outputId": "5bd81f26-0781-4ec3-f3aa-d40b7f4d6453"
      },
      "outputs": [
        {
          "output_type": "execute_result",
          "data": {
            "text/plain": [
              "Text(0, 0.5, 'accuracy')"
            ]
          },
          "metadata": {},
          "execution_count": 15
        },
        {
          "output_type": "display_data",
          "data": {
            "text/plain": [
              "<Figure size 432x288 with 1 Axes>"
            ],
            "image/png": "[encoded data removed]"
          },
          "metadata": {
            "needs_background": "light"
          }
        }
      ],
      "source": [
        "model_loss = pd.DataFrame(model.history.history)\n",
        "\n",
        "pd.DataFrame(history.history)\n",
        "pd.DataFrame(history.history)[[\"accuracy\", \"val_accuracy\"]].plot()\n",
        "plt.title(\"Training Accuracy\")\n",
        "plt.xlabel(\"Epochs\")\n",
        "plt.ylabel(\"accuracy\")"
      ]
    },
    {
      "cell_type": "code",
      "source": [
        "pd.DataFrame(history.history)[[\"loss\", \"val_loss\"]].plot()\n",
        "plt.title(\"Model Loss\")\n",
        "plt.xlabel(\"Epochs\")\n",
        "plt.ylabel(\"Loss\")"
      ],
      "metadata": {
        "id": "UPQvoO5f08Vs",
        "colab": {
          "base_uri": "https://localhost:8080/",
          "height": 312
        },
        "outputId": "173a47b0-ed49-43a0-e472-4e832f7bdda2"
      },
      "execution_count": 16,
      "outputs": [
        {
          "output_type": "execute_result",
          "data": {
            "text/plain": [
              "Text(0, 0.5, 'Loss')"
            ]
          },
          "metadata": {},
          "execution_count": 16
        },
        {
          "output_type": "display_data",
          "data": {
            "text/plain": [
              "<Figure size 432x288 with 1 Axes>"
            ],
            "image/png": "[encoded data removed]"
          },
          "metadata": {
            "needs_background": "light"
          }
        }
      ]
    },
    {
      "cell_type": "code",
      "source": [
        "from tensorflow.keras.models import save_model\n",
        "save_model(model, \"model.h5\")"
      ],
      "metadata": {
        "id": "0pY6vDE71AVM"
      },
      "execution_count": 17,
      "outputs": []
    },
    {
      "cell_type": "code",
      "source": [
        "import tensorflow as tf\n",
        "\n",
        "model = tf.keras.models.load_model('/content/model.h5')\n",
        "converter = tf.lite.TFLiteConverter.from_keras_model(model)\n",
        "tflite_model = converter.convert()\n",
        "open(\"water meter with AI & IOT.tflite\", \"wb\").write(tflite_model)"
      ],
      "metadata": {
        "colab": {
          "base_uri": "https://localhost:8080/"
        },
        "id": "mxTBVVE24oV6",
        "outputId": "c8f0b3ca-21be-40ca-bb2a-1a78ca22bd7e"
      },
      "execution_count": 18,
      "outputs": [
        {
          "output_type": "stream",
          "name": "stderr",
          "text": [
            "WARNING:absl:Found untraced functions such as _jit_compiled_convolution_op, _jit_compiled_convolution_op while saving (showing 2 of 2). These functions will not be directly callable after loading.\n"
          ]
        },
        {
          "output_type": "execute_result",
          "data": {
            "text/plain": [
              "4804952"
            ]
          },
          "metadata": {},
          "execution_count": 18
        }
      ]
    }
  ],
  "metadata": {
    "accelerator": "GPU",
    "colab": {
      "provenance": []
    },
    "gpuClass": "standard",
    "kernelspec": {
      "display_name": "Python 3",
      "name": "python3"
    },
    "language_info": {
      "name": "python"
    }
  },
  "nbformat": 4,
  "nbformat_minor": 0
}